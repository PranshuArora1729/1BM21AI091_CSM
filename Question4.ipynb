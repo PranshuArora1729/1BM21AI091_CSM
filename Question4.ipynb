{
 "cells": [
  {
   "cell_type": "markdown",
   "metadata": {},
   "source": [
    "***Question 4 Write a python program to perform Ridge regression on the given dataset using repeated k-fold cross-validation and report the average mean absolute error (MAE) on the dataset.***"
   ]
  },
  {
   "cell_type": "code",
   "execution_count": 1,
   "metadata": {},
   "outputs": [],
   "source": [
    "import numpy as np\n",
    "import pandas as pd\n",
    "from sklearn.datasets import load_diabetes\n",
    "from sklearn.model_selection import cross_val_score, RepeatedKFold\n",
    "from sklearn.linear_model import Ridge\n",
    "from sklearn.metrics import make_scorer"
   ]
  },
  {
   "cell_type": "code",
   "execution_count": 2,
   "metadata": {},
   "outputs": [],
   "source": [
    "diabetes = load_diabetes()\n",
    "X, y = diabetes.data, diabetes.target"
   ]
  },
  {
   "cell_type": "code",
   "execution_count": 3,
   "metadata": {},
   "outputs": [
    {
     "name": "stdout",
     "output_type": "stream",
     "text": [
      "Average Mean Absolute Error (MAE): 48.945504834627585\n"
     ]
    }
   ],
   "source": [
    "ridge_model = Ridge()\n",
    "cv = RepeatedKFold(n_splits=5, n_repeats=3, random_state=42)\n",
    "\n",
    "mae_scorer = make_scorer(lambda y_true, y_pred: np.mean(np.abs(y_true - y_pred)), greater_is_better=False)\n",
    "\n",
    "mae_scores = cross_val_score(ridge_model, X, y, cv=cv, scoring=mae_scorer)\n",
    "\n",
    "average_mae = -np.mean(mae_scores)\n",
    "\n",
    "print(f\"Average Mean Absolute Error (MAE): {average_mae}\")"
   ]
  },
  {
   "cell_type": "code",
   "execution_count": null,
   "metadata": {},
   "outputs": [],
   "source": []
  }
 ],
 "metadata": {
  "kernelspec": {
   "display_name": "Python 3",
   "language": "python",
   "name": "python3"
  },
  "language_info": {
   "codemirror_mode": {
    "name": "ipython",
    "version": 3
   },
   "file_extension": ".py",
   "mimetype": "text/x-python",
   "name": "python",
   "nbconvert_exporter": "python",
   "pygments_lexer": "ipython3",
   "version": "3.12.0"
  }
 },
 "nbformat": 4,
 "nbformat_minor": 2
}
