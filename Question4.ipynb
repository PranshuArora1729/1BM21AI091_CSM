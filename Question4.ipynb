{
 "cells": [
  {
   "cell_type": "markdown",
   "metadata": {},
   "source": [
    "***Question 4 Write a python program to perform Ridge regression on the given dataset using repeated k-fold cross-validation and report the average mean absolute error (MAE) on the dataset.***"
   ]
  },
  {
   "cell_type": "code",
   "execution_count": 9,
   "metadata": {},
   "outputs": [],
   "source": [
    "import numpy as np\n",
    "import pandas as pd\n",
    "from sklearn.datasets import load_iris\n",
    "from sklearn.model_selection import RepeatedKFold, cross_val_score\n",
    "from sklearn.linear_model import Ridge\n",
    "from sklearn.metrics import mean_absolute_error"
   ]
  },
  {
   "cell_type": "code",
   "execution_count": 10,
   "metadata": {},
   "outputs": [],
   "source": [
    "iris = load_iris()\n",
    "df = pd.DataFrame(iris.data, columns=[f\"Feature_{i}\" for i in range(iris.data.shape[1])])\n",
    "df[\"Target\"] = iris.target\n",
    "\n",
    "X = df.drop(\"Target\", axis=1)"
   ]
  },
  {
   "cell_type": "code",
   "execution_count": 11,
   "metadata": {},
   "outputs": [
    {
     "name": "stdout",
     "output_type": "stream",
     "text": [
      "Ridge Regression with Alpha=0.01: Average MAE = 0.1721\n",
      "Ridge Regression with Alpha=0.1: Average MAE = 0.1720\n",
      "Ridge Regression with Alpha=1.0: Average MAE = 0.1718\n",
      "Ridge Regression with Alpha=10.0: Average MAE = 0.1794\n"
     ]
    }
   ],
   "source": [
    "def ridge_regression(X, y, alpha, n_splits=5, n_repeats=10):\n",
    "    ridge_model = Ridge(alpha=alpha)\n",
    "    rkf = RepeatedKFold(n_splits=n_splits, n_repeats=n_repeats, random_state=42)\n",
    "    mae_scores = -cross_val_score(\n",
    "        ridge_model, X, y, scoring=\"neg_mean_absolute_error\", cv=rkf\n",
    "    )\n",
    "    return np.mean(mae_scores)\n",
    "\n",
    "\n",
    "alpha_values = [0.01, 0.1, 1.0, 10.0]\n",
    "for alpha in alpha_values:\n",
    "    average_mae = ridge_regression(X, y, alpha)\n",
    "    print(f\"Ridge Regression with Alpha={alpha}: Average MAE = {average_mae:.4f}\")"
   ]
  },
  {
   "cell_type": "code",
   "execution_count": null,
   "metadata": {},
   "outputs": [],
   "source": [
    "  "
   ]
  }
 ],
 "metadata": {
  "kernelspec": {
   "display_name": "Python 3",
   "language": "python",
   "name": "python3"
  },
  "language_info": {
   "codemirror_mode": {
    "name": "ipython",
    "version": 3
   },
   "file_extension": ".py",
   "mimetype": "text/x-python",
   "name": "python",
   "nbconvert_exporter": "python",
   "pygments_lexer": "ipython3",
   "version": "3.12.0"
  }
 },
 "nbformat": 4,
 "nbformat_minor": 2
}
