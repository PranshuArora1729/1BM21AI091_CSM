{
  "nbformat": 4,
  "nbformat_minor": 0,
  "metadata": {
    "colab": {
      "provenance": []
    },
    "kernelspec": {
      "name": "python3",
      "display_name": "Python 3"
    },
    "language_info": {
      "name": "python"
    }
  },
  "cells": [
    {
      "cell_type": "code",
      "source": [
        "from gensim.models import Word2Vec, Doc2Vec\n",
        "from gensim.models.doc2vec import TaggedDocument\n",
        "from sklearn.metrics.pairwise import cosine_similarity\n",
        "from nltk.tokenize import word_tokenize\n",
        "import nltk\n",
        "\n",
        "nltk.download('punkt')\n",
        "documents = [\n",
        "    \"Natural language processing is a subfield of linguistics, computer science, and artificial intelligence.\",\n",
        "    \"Machine learning is a subfield of artificial intelligence that focuses on the development of algorithms.\",\n",
        "    \"Artificial intelligence is the simulation of human intelligence processes by machines.\",\n",
        "    \"Deep learning is a subset of machine learning that focuses on neural networks.\",\n",
        "]\n",
        "\n",
        "tokenized_docs = [word_tokenize(doc.lower()) for doc in documents]\n",
        "word2vec_model = Word2Vec(tokenized_docs, vector_size=100, window=5, min_count=1, workers=4)\n",
        "tagged_documents = [TaggedDocument(doc, [i]) for i, doc in enumerate(tokenized_docs)]\n",
        "doc2vec_model = Doc2Vec(tagged_documents, vector_size=100, window=5, min_count=1, workers=4)\n",
        "\n",
        "def cosine_similarity_word2vec(doc1, doc2):\n",
        "    vec1 = sum([word2vec_model.wv[word] for word in doc1 if word in word2vec_model.wv])\n",
        "    vec2 = sum([word2vec_model.wv[word] for word in doc2 if word in word2vec_model.wv])\n",
        "    return cosine_similarity([vec1], [vec2])[0][0]\n",
        "\n",
        "def cosine_similarity_doc2vec(doc1, doc2):\n",
        "    vec1 = doc2vec_model.infer_vector(doc1)\n",
        "    vec2 = doc2vec_model.infer_vector(doc2)\n",
        "    return cosine_similarity([vec1], [vec2])[0][0]\n",
        "\n",
        "def jaccard_similarity(doc1, doc2):\n",
        "    intersection = len(set(doc1).intersection(doc2))\n",
        "    union = len(set(doc1).union(doc2))\n",
        "    return intersection / union if union != 0 else 0\n",
        "\n",
        "doc1 = word_tokenize(\"Natural language processing is a subfield of artificial intelligence.\")\n",
        "doc2 = word_tokenize(\"Deep learning is a subset of machine learning.\")\n",
        "doc3 = word_tokenize(\"Machine learning involves the use of algorithms.\")\n",
        "\n",
        "print(\"Cosine similarity using Word2Vec embeddings:\", cosine_similarity_word2vec(doc1, doc2))\n",
        "print(\"Cosine similarity using Doc2Vec embeddings:\", cosine_similarity_doc2vec(doc1, doc2))\n",
        "print(\"Jaccard similarity:\", jaccard_similarity(doc1, doc3))\n"
      ],
      "metadata": {
        "id": "vKlMCNw79L1H",
        "colab": {
          "base_uri": "https://localhost:8080/"
        },
        "outputId": "d67cffc1-f9f9-4b2c-8f5b-8f68aeb1c8d6"
      },
      "execution_count": 4,
      "outputs": [
        {
          "output_type": "stream",
          "name": "stderr",
          "text": [
            "[nltk_data] Downloading package punkt to /root/nltk_data...\n",
            "[nltk_data]   Unzipping tokenizers/punkt.zip.\n"
          ]
        },
        {
          "output_type": "stream",
          "name": "stdout",
          "text": [
            "Cosine similarity using Word2Vec embeddings: 0.48333097\n",
            "Cosine similarity using Doc2Vec embeddings: 0.12993178\n",
            "Jaccard similarity: 0.125\n"
          ]
        }
      ]
    },
    {
      "cell_type": "code",
      "source": [],
      "metadata": {
        "id": "9y-OGy_4RFXJ"
      },
      "execution_count": null,
      "outputs": []
    }
  ]
}