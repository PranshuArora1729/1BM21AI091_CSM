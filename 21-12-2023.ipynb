{
 "cells": [
  {
   "cell_type": "code",
   "execution_count": 1,
   "metadata": {},
   "outputs": [
    {
     "name": "stdout",
     "output_type": "stream",
     "text": [
      "pygame 2.5.2 (SDL 2.28.3, Python 3.12.0)\n",
      "Hello from the pygame community. https://www.pygame.org/contribute.html\n"
     ]
    },
    {
     "ename": "SystemExit",
     "evalue": "",
     "output_type": "error",
     "traceback": [
      "An exception has occurred, use %tb to see the full traceback.\n",
      "\u001b[1;31mSystemExit\u001b[0m\n"
     ]
    },
    {
     "name": "stderr",
     "output_type": "stream",
     "text": [
      "C:\\Users\\Admin\\AppData\\Roaming\\Python\\Python312\\site-packages\\IPython\\core\\interactiveshell.py:3556: UserWarning: To exit: use 'exit', 'quit', or Ctrl-D.\n",
      "  warn(\"To exit: use 'exit', 'quit', or Ctrl-D.\", stacklevel=1)\n"
     ]
    }
   ],
   "source": [
    "import pygame\n",
    "import sys\n",
    "import random\n",
    "\n",
    "# Initialize Pygame\n",
    "pygame.init()\n",
    "\n",
    "# Constants\n",
    "SCREEN_WIDTH = 800\n",
    "SCREEN_HEIGHT = 600\n",
    "MESSAGE = \"K4U5#4L 13#41 K3 44G3 K01 130L 5KT4 #41 KY4,,,,,,,,,,  K4U5#4L 13#444441\"\n",
    "FONT_SIZE = 48\n",
    "MESSAGE_COLOR = (255, 255, 255)\n",
    "BACKGROUND_COLOR = (0, 0, 0)\n",
    "\n",
    "# Create the screen\n",
    "screen = pygame.display.set_mode((SCREEN_WIDTH, SCREEN_HEIGHT))\n",
    "pygame.display.set_caption(\"Chaos to Order Animation\")\n",
    "\n",
    "# Create the font\n",
    "font = pygame.font.Font(None, FONT_SIZE)\n",
    "\n",
    "# Function to generate initial random chaos animation\n",
    "def initial_chaos_animation():\n",
    "    particles = [{'x': random.randint(0, SCREEN_WIDTH),\n",
    "                  'y': random.randint(0, SCREEN_HEIGHT),\n",
    "                  'vx': random.uniform(-2, 2),\n",
    "                  'vy': random.uniform(-2, 2)} for _ in range(100)]\n",
    "\n",
    "    for _ in range(150):\n",
    "        for particle in particles:\n",
    "            particle['x'] += particle['vx']\n",
    "            particle['y'] += particle['vy']\n",
    "\n",
    "            # Bounce off the edges\n",
    "            if not (0 <= particle['x'] <= SCREEN_WIDTH):\n",
    "                particle['vx'] *= -1\n",
    "            if not (0 <= particle['y'] <= SCREEN_HEIGHT):\n",
    "                particle['vy'] *= -1\n",
    "\n",
    "        # Draw particles on the screen\n",
    "        screen.fill(BACKGROUND_COLOR)\n",
    "        for particle in particles:\n",
    "            pygame.draw.circle(screen, MESSAGE_COLOR, (int(particle['x']), int(particle['y'])), 2)\n",
    "\n",
    "        pygame.display.flip()\n",
    "        pygame.time.Clock().tick(60)\n",
    "\n",
    "# Function to transition from chaos to order\n",
    "def transition_to_order():\n",
    "    for _ in range(100):\n",
    "        screen.fill(BACKGROUND_COLOR)\n",
    "        \n",
    "        # Display the message gradually\n",
    "        alpha = int(255 * (_ / 100))\n",
    "        text = font.render(MESSAGE, True, (MESSAGE_COLOR[0], MESSAGE_COLOR[1], MESSAGE_COLOR[2], alpha))\n",
    "        text_rect = text.get_rect(center=(SCREEN_WIDTH // 2, SCREEN_HEIGHT // 2))\n",
    "        screen.blit(text, text_rect)\n",
    "\n",
    "        pygame.display.flip()\n",
    "        pygame.time.Clock().tick(60)\n",
    "\n",
    "# Run the initial chaos animation\n",
    "initial_chaos_animation()\n",
    "\n",
    "# Run the transition to order\n",
    "transition_to_order()\n",
    "\n",
    "# Wait for the user to close the window\n",
    "while True:\n",
    "    for event in pygame.event.get():\n",
    "        if event.type == pygame.QUIT:\n",
    "            pygame.quit()\n",
    "            sys.exit()\n"
   ]
  },
  {
   "cell_type": "code",
   "execution_count": null,
   "metadata": {},
   "outputs": [],
   "source": []
  }
 ],
 "metadata": {
  "kernelspec": {
   "display_name": "Python 3",
   "language": "python",
   "name": "python3"
  },
  "language_info": {
   "codemirror_mode": {
    "name": "ipython",
    "version": 3
   },
   "file_extension": ".py",
   "mimetype": "text/x-python",
   "name": "python",
   "nbconvert_exporter": "python",
   "pygments_lexer": "ipython3",
   "version": "3.12.0"
  }
 },
 "nbformat": 4,
 "nbformat_minor": 2
}
