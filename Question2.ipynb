{
 "cells": [
  {
   "cell_type": "markdown",
   "metadata": {},
   "source": [
    "***Question 2)  Implement Forward Stepwise Selection algorithm for the given dataset***"
   ]
  },
  {
   "cell_type": "code",
   "execution_count": 1,
   "metadata": {},
   "outputs": [],
   "source": [
    "import numpy as np\n",
    "import pandas as pd\n",
    "from sklearn.datasets import load_iris\n",
    "from sklearn.linear_model import LinearRegression\n",
    "from sklearn.model_selection import train_test_split\n",
    "from sklearn.metrics import mean_squared_error"
   ]
  },
  {
   "cell_type": "code",
   "execution_count": 2,
   "metadata": {},
   "outputs": [],
   "source": [
    "iris = load_iris()\n",
    "X = pd.DataFrame(iris.data, columns=iris.feature_names)\n",
    "y = pd.Series(iris.target, name='target')\n",
    "\n",
    "X_train, X_test, y_train, y_test = train_test_split(X, y, test_size=0.2, random_state=42)\n",
    "\n",
    "selected_features = []\n",
    "model = LinearRegression()"
   ]
  },
  {
   "cell_type": "code",
   "execution_count": 3,
   "metadata": {},
   "outputs": [
    {
     "name": "stdout",
     "output_type": "stream",
     "text": [
      "Added feature: petal width (cm), MSE: 0.03340059827813125\n",
      "Added feature: sepal length (cm), MSE: 0.03343549191464981\n",
      "Added feature: petal length (cm), MSE: 0.03649071499542255\n",
      "Added feature: sepal width (cm), MSE: 0.037113794407976866\n",
      "Final selected features: ['petal width (cm)', 'sepal length (cm)', 'petal length (cm)', 'sepal width (cm)']\n"
     ]
    }
   ],
   "source": [
    "for _ in range(X_train.shape[1]):\n",
    "    best_feature = None\n",
    "    best_mse = float('inf')\n",
    "\n",
    "    for feature in set(X_train.columns) - set(selected_features):\n",
    "        current_features = selected_features + [feature]\n",
    "        model.fit(X_train[current_features], y_train)\n",
    "        y_pred = model.predict(X_test[current_features])\n",
    "        mse = mean_squared_error(y_test, y_pred)\n",
    "\n",
    "        if mse < best_mse:\n",
    "            best_mse = mse\n",
    "            best_feature = feature\n",
    "\n",
    "    selected_features.append(best_feature)\n",
    "\n",
    "    print(f\"Added feature: {best_feature}, MSE: {best_mse}\")\n",
    "\n",
    "print(\"Final selected features:\", selected_features)\n"
   ]
  },
  {
   "cell_type": "code",
   "execution_count": null,
   "metadata": {},
   "outputs": [],
   "source": []
  }
 ],
 "metadata": {
  "kernelspec": {
   "display_name": "Python 3",
   "language": "python",
   "name": "python3"
  },
  "language_info": {
   "codemirror_mode": {
    "name": "ipython",
    "version": 3
   },
   "file_extension": ".py",
   "mimetype": "text/x-python",
   "name": "python",
   "nbconvert_exporter": "python",
   "pygments_lexer": "ipython3",
   "version": "3.12.0"
  }
 },
 "nbformat": 4,
 "nbformat_minor": 2
}
