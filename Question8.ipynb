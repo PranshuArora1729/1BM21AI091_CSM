{
 "cells": [
  {
   "cell_type": "code",
   "execution_count": 1,
   "metadata": {},
   "outputs": [
    {
     "name": "stdout",
     "output_type": "stream",
     "text": [
      "Optimal solution:\n",
      "x = [0.5 0.5]\n",
      "Minimum value = 0.5\n"
     ]
    }
   ],
   "source": [
    "import numpy as np\n",
    "from scipy.optimize import minimize\n",
    "\n",
    "def objective_function(x):\n",
    "    return x[0] ** 2 + x[1] ** 2\n",
    "\n",
    "def constraint_function(x):\n",
    "    return np.array([x[0] + x[1] - 1])\n",
    "\n",
    "\n",
    "initial_guess = [0, 0]\n",
    "variable_bounds = ((-np.inf, np.inf), (-np.inf, np.inf))\n",
    "constraints = {\"type\": \"eq\", \"fun\": constraint_function}\n",
    "result = minimize(objective_function,initial_guess,method=\"SLSQP\",bounds=variable_bounds,constraints=constraints,)\n",
    "\n",
    "print(\"Optimal solution:\")\n",
    "print(\"x =\", result.x)\n",
    "print(\"Minimum value =\", result.fun)"
   ]
  },
  {
   "cell_type": "code",
   "execution_count": null,
   "metadata": {},
   "outputs": [],
   "source": []
  }
 ],
 "metadata": {
  "kernelspec": {
   "display_name": "Python 3",
   "language": "python",
   "name": "python3"
  },
  "language_info": {
   "codemirror_mode": {
    "name": "ipython",
    "version": 3
   },
   "file_extension": ".py",
   "mimetype": "text/x-python",
   "name": "python",
   "nbconvert_exporter": "python",
   "pygments_lexer": "ipython3",
   "version": "3.12.0"
  }
 },
 "nbformat": 4,
 "nbformat_minor": 2
}
