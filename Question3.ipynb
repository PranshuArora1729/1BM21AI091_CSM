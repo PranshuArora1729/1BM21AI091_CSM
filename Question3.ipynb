{
 "cells": [
  {
   "cell_type": "markdown",
   "metadata": {},
   "source": [
    "***Question 3. Implement Backward Stepwise Selection algorithm for the given dataset***"
   ]
  },
  {
   "cell_type": "code",
   "execution_count": 1,
   "metadata": {},
   "outputs": [],
   "source": [
    "import numpy as np\n",
    "import pandas as pd\n",
    "from sklearn.datasets import load_iris\n",
    "from sklearn.linear_model import LinearRegression\n",
    "from sklearn.model_selection import train_test_split\n",
    "from sklearn.metrics import mean_squared_error"
   ]
  },
  {
   "cell_type": "code",
   "execution_count": 6,
   "metadata": {},
   "outputs": [],
   "source": [
    "iris = load_iris()\n",
    "X = pd.DataFrame(iris.data, columns=iris.feature_names)\n",
    "y = pd.Series(iris.target, name='target')\n",
    "\n",
    "X_train, X_test, y_train, y_test = train_test_split(X, y, test_size=0.2, random_state=42)\n",
    "\n",
    "selected_features = list(X.columns)\n",
    "model = LinearRegression()"
   ]
  },
  {
   "cell_type": "code",
   "execution_count": 10,
   "metadata": {},
   "outputs": [
    {
     "name": "stdout",
     "output_type": "stream",
     "text": [
      "Final selected features: ['petal width (cm)']\n"
     ]
    }
   ],
   "source": [
    "for _ in range(X_train.shape[1]):\n",
    "    worst_feature = None\n",
    "    worst_mse = float('inf')\n",
    "\n",
    "    for feature in selected_features:\n",
    "        current_features = [f for f in selected_features if f != feature]\n",
    "        \n",
    "        if len(current_features) > 0:\n",
    "            X_train_subset = X_train[current_features].values\n",
    "            model.fit(X_train_subset, y_train)\n",
    "            X_test_subset = X_test[current_features].values\n",
    "            y_pred = model.predict(X_test_subset)\n",
    "            mse = mean_squared_error(y_test, y_pred)\n",
    "\n",
    "            if mse < worst_mse:\n",
    "                worst_mse = mse\n",
    "                worst_feature = feature\n",
    "\n",
    "    if worst_feature is not None:\n",
    "        selected_features.remove(worst_feature)\n",
    "        print(f\"Removed feature: {worst_feature}, MSE: {worst_mse}\")\n",
    "\n",
    "print(\"Final selected features:\", selected_features)\n"
   ]
  }
 ],
 "metadata": {
  "kernelspec": {
   "display_name": "Python 3",
   "language": "python",
   "name": "python3"
  },
  "language_info": {
   "codemirror_mode": {
    "name": "ipython",
    "version": 3
   },
   "file_extension": ".py",
   "mimetype": "text/x-python",
   "name": "python",
   "nbconvert_exporter": "python",
   "pygments_lexer": "ipython3",
   "version": "3.12.0"
  }
 },
 "nbformat": 4,
 "nbformat_minor": 2
}
