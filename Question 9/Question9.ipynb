{
 "cells": [
  {
   "cell_type": "code",
   "execution_count": 1,
   "metadata": {},
   "outputs": [],
   "source": [
    "import pandas as pd\n",
    "from sklearn.metrics import mean_squared_error\n",
    "from math import sqrt"
   ]
  },
  {
   "cell_type": "code",
   "execution_count": 2,
   "metadata": {},
   "outputs": [
    {
     "name": "stdout",
     "output_type": "stream",
     "text": [
      "Root Mean Squared Error (RMSE): 3.624336247184741\n"
     ]
    }
   ],
   "source": [
    "data = pd.read_csv(\"data.csv\")\n",
    "train_data = data.sample(frac=0.8, random_state=42)\n",
    "test_data = data.drop(train_data.index)\n",
    "\n",
    "user_item_matrix = train_data.pivot(index=\"user_id\", columns=\"item_id\", values=\"rating\").fillna(0)\n",
    "\n",
    "def predict_ratings(user_id, item_id):\n",
    "    user_ratings = user_item_matrix.loc[user_id]\n",
    "    similar_users = user_item_matrix.corrwith(user_ratings)\n",
    "    similar_users = similar_users.dropna()\n",
    "\n",
    "    weighted_ratings = (user_item_matrix.loc[similar_users.index, item_id] * similar_users)\n",
    "    predicted_rating = weighted_ratings.sum() / similar_users.abs().sum()\n",
    "\n",
    "    return predicted_rating\n",
    "\n",
    "test_data[\"predicted_rating\"] = test_data.apply(lambda row: predict_ratings(row[\"user_id\"], row[\"item_id\"]), axis=1)\n",
    "\n",
    "rmse = sqrt(mean_squared_error(test_data[\"rating\"], test_data[\"predicted_rating\"]))\n",
    "print(\"Root Mean Squared Error (RMSE):\", rmse)"
   ]
  },
  {
   "cell_type": "code",
   "execution_count": null,
   "metadata": {},
   "outputs": [],
   "source": []
  }
 ],
 "metadata": {
  "kernelspec": {
   "display_name": "Python 3",
   "language": "python",
   "name": "python3"
  },
  "language_info": {
   "codemirror_mode": {
    "name": "ipython",
    "version": 3
   },
   "file_extension": ".py",
   "mimetype": "text/x-python",
   "name": "python",
   "nbconvert_exporter": "python",
   "pygments_lexer": "ipython3",
   "version": "3.12.0"
  }
 },
 "nbformat": 4,
 "nbformat_minor": 2
}
